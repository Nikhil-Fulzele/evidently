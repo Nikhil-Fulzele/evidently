{
 "cells": [
  {
   "cell_type": "code",
   "execution_count": 1,
   "id": "ee943a01",
   "metadata": {},
   "outputs": [],
   "source": [
    "from evidently.dashboard import Dashboard\n",
    "from evidently.dashboard.tabs.widget_gallery_tab import WidgetGalleryTab\n",
    "\n",
    "import pandas as pd"
   ]
  },
  {
   "cell_type": "code",
   "execution_count": null,
   "id": "a0473f4a",
   "metadata": {},
   "outputs": [],
   "source": []
  },
  {
   "cell_type": "code",
   "execution_count": null,
   "id": "07ca6c35",
   "metadata": {},
   "outputs": [],
   "source": []
  },
  {
   "cell_type": "code",
   "execution_count": 2,
   "id": "1cca394d",
   "metadata": {
    "scrolled": false
   },
   "outputs": [],
   "source": [
    "dashboard = Dashboard(tabs=[WidgetGalleryTab()])\n",
    "dashboard.calculate(pd.DataFrame([[1, 2],[1, 2],[1, 2]]), None, None)\n",
    "dashboard.save(\"widget_example.html\")"
   ]
  },
  {
   "cell_type": "code",
   "execution_count": null,
   "id": "2bbd767b",
   "metadata": {},
   "outputs": [],
   "source": []
  },
  {
   "cell_type": "code",
   "execution_count": 3,
   "id": "a0f93e4d",
   "metadata": {
    "scrolled": false
   },
   "outputs": [],
   "source": [
    "dashboard.save(\"example.html\")"
   ]
  }
 ],
 "metadata": {
  "kernelspec": {
   "display_name": "Python 3 (ipykernel)",
   "language": "python",
   "name": "python3"
  },
  "language_info": {
   "codemirror_mode": {
    "name": "ipython",
    "version": 3
   },
   "file_extension": ".py",
   "mimetype": "text/x-python",
   "name": "python",
   "nbconvert_exporter": "python",
   "pygments_lexer": "ipython3",
   "version": "3.8.5"
  }
 },
 "nbformat": 4,
 "nbformat_minor": 5
}
